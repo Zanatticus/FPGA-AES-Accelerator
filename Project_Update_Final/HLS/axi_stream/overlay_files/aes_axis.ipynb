{
 "cells": [
  {
   "cell_type": "code",
   "execution_count": 1,
   "id": "aa282dde",
   "metadata": {},
   "outputs": [],
   "source": [
    "from pynq import Overlay\n",
    "import numpy as np\n",
    "import random\n",
    "from pynq import allocate"
   ]
  },
  {
   "cell_type": "code",
   "execution_count": 2,
   "id": "bdceaf2c",
   "metadata": {},
   "outputs": [
    {
     "data": {
      "application/javascript": [
       "\n",
       "try {\n",
       "require(['notebook/js/codecell'], function(codecell) {\n",
       "  codecell.CodeCell.options_default.highlight_modes[\n",
       "      'magic_text/x-csrc'] = {'reg':[/^%%microblaze/]};\n",
       "  Jupyter.notebook.events.one('kernel_ready.Kernel', function(){\n",
       "      Jupyter.notebook.get_cells().map(function(cell){\n",
       "          if (cell.cell_type == 'code'){ cell.auto_highlight(); } }) ;\n",
       "  });\n",
       "});\n",
       "} catch (e) {};\n"
      ]
     },
     "metadata": {},
     "output_type": "display_data"
    },
    {
     "data": {
      "application/javascript": [
       "\n",
       "try {\n",
       "require(['notebook/js/codecell'], function(codecell) {\n",
       "  codecell.CodeCell.options_default.highlight_modes[\n",
       "      'magic_text/x-csrc'] = {'reg':[/^%%pybind11/]};\n",
       "  Jupyter.notebook.events.one('kernel_ready.Kernel', function(){\n",
       "      Jupyter.notebook.get_cells().map(function(cell){\n",
       "          if (cell.cell_type == 'code'){ cell.auto_highlight(); } }) ;\n",
       "  });\n",
       "});\n",
       "} catch (e) {};\n"
      ]
     },
     "metadata": {},
     "output_type": "display_data"
    }
   ],
   "source": [
    "overlay = Overlay('/home/xilinx/pynq/overlays/aes_axis/aes.bit')\n",
    "overlay?"
   ]
  },
  {
   "cell_type": "code",
   "execution_count": 3,
   "id": "747ccef8",
   "metadata": {},
   "outputs": [],
   "source": [
    "aes_ip = overlay.aes_0\n",
    "aes_ip?"
   ]
  },
  {
   "cell_type": "code",
   "execution_count": 4,
   "id": "ecc9c72e",
   "metadata": {},
   "outputs": [],
   "source": [
    "dma = overlay.axi_dma\n",
    "dma_send = overlay.axi_dma.sendchannel\n",
    "dma_recv = overlay.axi_dma.recvchannel"
   ]
  },
  {
   "cell_type": "code",
   "execution_count": 5,
   "id": "5744f933",
   "metadata": {},
   "outputs": [],
   "source": [
    "data_size = 16\n",
    "\n",
    "key_and_plaintext_buffer = allocate(shape=(2*data_size,), dtype=np.uint32)\n",
    "key_array = [ord(char) for char in \"kkkkeeeeyyyy....\"]\n",
    "plaintext_array = [ord(char) for char in \"abcdef1234567890\"]\n",
    "key_and_plaintext_buffer[:] = key_array + plaintext_array\n",
    "\n",
    "ciphertext_and_decryptedtext_buffer = allocate(shape=(2*data_size,), dtype=np.uint32)"
   ]
  },
  {
   "cell_type": "code",
   "execution_count": 6,
   "id": "0e1a9906",
   "metadata": {},
   "outputs": [
    {
     "data": {
      "text/plain": [
       "RegisterMap {\n",
       "  CTRL = Register(AP_START=1, AP_DONE=0, AP_IDLE=0, AP_READY=0, RESERVED_1=0, AUTO_RESTART=1, RESERVED_2=0, INTERRUPT=0, RESERVED_3=0),\n",
       "  GIER = Register(Enable=0, RESERVED=0),\n",
       "  IP_IER = Register(CHAN0_INT_EN=0, CHAN1_INT_EN=0, RESERVED_0=0),\n",
       "  IP_ISR = Register(CHAN0_INT_ST=0, CHAN1_INT_ST=0, RESERVED_0=0),\n",
       "  key_size = Register(key_size=write-only)\n",
       "}"
      ]
     },
     "execution_count": 6,
     "metadata": {},
     "output_type": "execute_result"
    }
   ],
   "source": [
    "CONTROL_REGISTER = 0x0\n",
    "#aes_ip.write(CONTROL_REGISTER, 0x01) # Set just AP_START to 1\n",
    "aes_ip.write(CONTROL_REGISTER, 0x81) # Set AP_START and AUTO_RESTART to 1\n",
    "aes_ip.register_map"
   ]
  },
  {
   "cell_type": "code",
   "execution_count": 7,
   "id": "e8eac51a",
   "metadata": {},
   "outputs": [
    {
     "data": {
      "text/plain": [
       "16"
      ]
     },
     "execution_count": 7,
     "metadata": {},
     "output_type": "execute_result"
    }
   ],
   "source": [
    "aes_ip.write(0x10, 16) # Write Key Size = 16\n",
    "aes_ip.read(0x10)"
   ]
  },
  {
   "cell_type": "code",
   "execution_count": 8,
   "id": "bfe2572c",
   "metadata": {},
   "outputs": [],
   "source": [
    "def run_kernel():\n",
    "    dma_send.transfer(key_and_plaintext_buffer)\n",
    "    dma_recv.transfer(ciphertext_and_decryptedtext_buffer)\n",
    "    dma_send.wait()\n",
    "    dma_recv.wait()"
   ]
  },
  {
   "cell_type": "code",
   "execution_count": 9,
   "id": "374e3258",
   "metadata": {},
   "outputs": [],
   "source": [
    "run_kernel()"
   ]
  },
  {
   "cell_type": "code",
   "execution_count": 10,
   "id": "5ba6c75e",
   "metadata": {},
   "outputs": [
    {
     "data": {
      "text/plain": [
       "PynqBuffer([107, 107, 107, 107, 101, 101, 101, 101, 121, 121, 121, 121,\n",
       "             46,  46,  46,  46,  97,  98,  99, 100, 101, 102,  49,  50,\n",
       "             51,  52,  53,  54,  55,  56,  57,  48], dtype=uint32)"
      ]
     },
     "execution_count": 10,
     "metadata": {},
     "output_type": "execute_result"
    }
   ],
   "source": [
    "key_and_plaintext_buffer"
   ]
  },
  {
   "cell_type": "code",
   "execution_count": 11,
   "id": "9254e938",
   "metadata": {},
   "outputs": [
    {
     "data": {
      "text/plain": [
       "PynqBuffer([107, 107, 107, 107, 101, 101, 101, 101, 121, 121, 121, 121,\n",
       "             46,  46,  46,  46,  97,  98,  99, 100, 101, 102,  49,  50,\n",
       "             51,  52,  53,  54,  55,  56,  57,  48], dtype=uint32)"
      ]
     },
     "execution_count": 11,
     "metadata": {},
     "output_type": "execute_result"
    }
   ],
   "source": [
    "ciphertext_and_decryptedtext_buffer"
   ]
  },
  {
   "cell_type": "code",
   "execution_count": 12,
   "id": "2db7036c",
   "metadata": {},
   "outputs": [
    {
     "name": "stdout",
     "output_type": "stream",
     "text": [
      "0x6b\n",
      "0x6b\n",
      "0x6b\n",
      "0x6b\n",
      "0x65\n",
      "0x65\n",
      "0x65\n",
      "0x65\n",
      "0x79\n",
      "0x79\n",
      "0x79\n",
      "0x79\n",
      "0x2e\n",
      "0x2e\n",
      "0x2e\n",
      "0x2e\n",
      "0x61\n",
      "0x62\n",
      "0x63\n",
      "0x64\n",
      "0x65\n",
      "0x66\n",
      "0x31\n",
      "0x32\n",
      "0x33\n",
      "0x34\n",
      "0x35\n",
      "0x36\n",
      "0x37\n",
      "0x38\n",
      "0x39\n",
      "0x30\n"
     ]
    }
   ],
   "source": [
    "# Print out ciphertext_buffer\n",
    "for i in range(16):\n",
    "    print('0x' + format(ciphertext_and_decryptedtext_buffer[i], '02x'))\n",
    "# Print out decryptedtext_buffer\n",
    "for i in range(16):\n",
    "    print('0x' + format(ciphertext_and_decryptedtext_buffer[i+16], '02x'))"
   ]
  },
  {
   "cell_type": "code",
   "execution_count": 13,
   "id": "5046ca24",
   "metadata": {},
   "outputs": [],
   "source": [
    "del key_and_plaintext_buffer\n",
    "del ciphertext_and_decryptedtext_buffer"
   ]
  },
  {
   "cell_type": "code",
   "execution_count": null,
   "id": "d651581b",
   "metadata": {},
   "outputs": [],
   "source": []
  }
 ],
 "metadata": {
  "kernelspec": {
   "display_name": "Python 3 (ipykernel)",
   "language": "python",
   "name": "python3"
  },
  "language_info": {
   "codemirror_mode": {
    "name": "ipython",
    "version": 3
   },
   "file_extension": ".py",
   "mimetype": "text/x-python",
   "name": "python",
   "nbconvert_exporter": "python",
   "pygments_lexer": "ipython3",
   "version": "3.10.4"
  }
 },
 "nbformat": 4,
 "nbformat_minor": 5
}
