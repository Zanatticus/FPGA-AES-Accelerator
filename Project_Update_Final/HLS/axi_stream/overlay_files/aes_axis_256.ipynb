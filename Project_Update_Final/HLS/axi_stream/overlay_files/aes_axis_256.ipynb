{
 "cells": [
  {
   "cell_type": "code",
   "execution_count": 1,
   "id": "aa282dde",
   "metadata": {},
   "outputs": [],
   "source": [
    "from pynq import Overlay\n",
    "import numpy as np\n",
    "import random\n",
    "from pynq import allocate"
   ]
  },
  {
   "cell_type": "code",
   "execution_count": 2,
   "id": "bdceaf2c",
   "metadata": {},
   "outputs": [
    {
     "data": {
      "application/javascript": [
       "\n",
       "try {\n",
       "require(['notebook/js/codecell'], function(codecell) {\n",
       "  codecell.CodeCell.options_default.highlight_modes[\n",
       "      'magic_text/x-csrc'] = {'reg':[/^%%microblaze/]};\n",
       "  Jupyter.notebook.events.one('kernel_ready.Kernel', function(){\n",
       "      Jupyter.notebook.get_cells().map(function(cell){\n",
       "          if (cell.cell_type == 'code'){ cell.auto_highlight(); } }) ;\n",
       "  });\n",
       "});\n",
       "} catch (e) {};\n"
      ]
     },
     "metadata": {},
     "output_type": "display_data"
    },
    {
     "data": {
      "application/javascript": [
       "\n",
       "try {\n",
       "require(['notebook/js/codecell'], function(codecell) {\n",
       "  codecell.CodeCell.options_default.highlight_modes[\n",
       "      'magic_text/x-csrc'] = {'reg':[/^%%pybind11/]};\n",
       "  Jupyter.notebook.events.one('kernel_ready.Kernel', function(){\n",
       "      Jupyter.notebook.get_cells().map(function(cell){\n",
       "          if (cell.cell_type == 'code'){ cell.auto_highlight(); } }) ;\n",
       "  });\n",
       "});\n",
       "} catch (e) {};\n"
      ]
     },
     "metadata": {},
     "output_type": "display_data"
    }
   ],
   "source": [
    "overlay = Overlay('aes.bit')\n",
    "overlay?"
   ]
  },
  {
   "cell_type": "code",
   "execution_count": 3,
   "id": "ecc9c72e",
   "metadata": {},
   "outputs": [],
   "source": [
    "aes_ip = overlay.aes_0\n",
    "dma = overlay.axi_dma\n",
    "dma_send = overlay.axi_dma.sendchannel\n",
    "dma_recv = overlay.axi_dma.recvchannel"
   ]
  },
  {
   "cell_type": "code",
   "execution_count": 4,
   "id": "5744f933",
   "metadata": {},
   "outputs": [],
   "source": [
    "aes_mode = 256\n",
    "\n",
    "if aes_mode == 128:\n",
    "    cipherkey_size = 16\n",
    "    key_array = [ord(char) for char in \"kkkkeeeeyyyy....\"]\n",
    "    aes_ip.write(0x10, 128) # Write Mode (128 for AES-128, 192 for AES-192, 256 for AES-256)\n",
    "    \n",
    "elif aes_mode == 192:\n",
    "    cipherkey_size = 24\n",
    "    key_array = [ord(char) for char in \"kkkkeeeeyyyy....12345678\"]\n",
    "    aes_ip.write(0x10, 192) # Write Mode (128 for AES-128, 192 for AES-192, 256 for AES-256)\n",
    "    \n",
    "elif aes_mode == 256:\n",
    "    cipherkey_size = 32\n",
    "    key_array = [ord(char) for char in \"kkkkeeeeyyyy....12345678ABCDEFGH\"]\n",
    "    aes_ip.write(0x10, 256) # Write Mode (128 for AES-128, 192 for AES-192, 256 for AES-256)\n",
    "    \n",
    "text_size = 16\n",
    "plaintext_array = [ord(char) for char in \"abcdef1234567890\"]\n",
    "\n",
    "key_and_plaintext_buffer = allocate(shape=(cipherkey_size + text_size,), dtype=np.uint8)\n",
    "key_and_plaintext_buffer[:] = key_array + plaintext_array\n",
    "ciphertext_and_decryptedtext_buffer = allocate(shape=(2*text_size,), dtype=np.uint8)"
   ]
  },
  {
   "cell_type": "code",
   "execution_count": 5,
   "id": "0e1a9906",
   "metadata": {},
   "outputs": [
    {
     "data": {
      "text/plain": [
       "RegisterMap {\n",
       "  CTRL = Register(AP_START=1, AP_DONE=0, AP_IDLE=0, AP_READY=0, RESERVED_1=0, AUTO_RESTART=1, RESERVED_2=0, INTERRUPT=0, RESERVED_3=0),\n",
       "  GIER = Register(Enable=0, RESERVED=0),\n",
       "  IP_IER = Register(CHAN0_INT_EN=0, CHAN1_INT_EN=0, RESERVED_0=0),\n",
       "  IP_ISR = Register(CHAN0_INT_ST=0, CHAN1_INT_ST=0, RESERVED_0=0),\n",
       "  mode = Register(mode=write-only)\n",
       "}"
      ]
     },
     "execution_count": 5,
     "metadata": {},
     "output_type": "execute_result"
    }
   ],
   "source": [
    "CONTROL_REGISTER = 0x0\n",
    "aes_ip.write(CONTROL_REGISTER, 0x81) # Set AP_START and AUTO_RESTART to 1\n",
    "aes_ip.register_map"
   ]
  },
  {
   "cell_type": "code",
   "execution_count": 6,
   "id": "bfe2572c",
   "metadata": {},
   "outputs": [],
   "source": [
    "def run_kernel():\n",
    "    dma_send.transfer(key_and_plaintext_buffer)\n",
    "    dma_recv.transfer(ciphertext_and_decryptedtext_buffer)"
   ]
  },
  {
   "cell_type": "code",
   "execution_count": 7,
   "id": "374e3258",
   "metadata": {},
   "outputs": [],
   "source": [
    "run_kernel()"
   ]
  },
  {
   "cell_type": "code",
   "execution_count": 8,
   "id": "8fdde6c2",
   "metadata": {},
   "outputs": [
    {
     "name": "stdout",
     "output_type": "stream",
     "text": [
      "Plaintext (hex): \n",
      "61 62 63 64 65 66 31 32 33 34 35 36 37 38 39 30 "
     ]
    }
   ],
   "source": [
    "# Print out plaintext portion of buffer\n",
    "print(\"Plaintext (hex): \")\n",
    "for i in range(16):\n",
    "    print(format(key_and_plaintext_buffer[cipherkey_size + i], '02x'), end=' ')"
   ]
  },
  {
   "cell_type": "code",
   "execution_count": 9,
   "id": "2db7036c",
   "metadata": {},
   "outputs": [
    {
     "name": "stdout",
     "output_type": "stream",
     "text": [
      "Ciphertext (hex): \n",
      "32 cd ba 88 5c e3 af 76 7a 38 7e bb 54 84 62 b5 "
     ]
    }
   ],
   "source": [
    "# Print out ciphertext_buffer\n",
    "print(\"Ciphertext (hex): \")\n",
    "for i in range(16):\n",
    "    print(format(ciphertext_and_decryptedtext_buffer[i], '02x'), end=' ')"
   ]
  },
  {
   "cell_type": "code",
   "execution_count": 10,
   "id": "3d7c6ed3",
   "metadata": {},
   "outputs": [
    {
     "name": "stdout",
     "output_type": "stream",
     "text": [
      "Decryptedtext (hex): \n",
      "61 62 63 64 65 66 31 32 33 34 35 36 37 38 39 30 "
     ]
    }
   ],
   "source": [
    "# Print out decryptedtext_buffer\n",
    "print(\"Decryptedtext (hex): \")\n",
    "for i in range(16):\n",
    "    print(format(ciphertext_and_decryptedtext_buffer[i+16], '02x'), end=' ')"
   ]
  },
  {
   "cell_type": "code",
   "execution_count": 11,
   "id": "b8cc1837",
   "metadata": {},
   "outputs": [
    {
     "data": {
      "text/plain": [
       "PynqBuffer([107, 107, 107, 107, 101, 101, 101, 101, 121, 121, 121, 121,\n",
       "             46,  46,  46,  46,  49,  50,  51,  52,  53,  54,  55,  56,\n",
       "             65,  66,  67,  68,  69,  70,  71,  72,  97,  98,  99, 100,\n",
       "            101, 102,  49,  50,  51,  52,  53,  54,  55,  56,  57,  48],\n",
       "           dtype=uint8)"
      ]
     },
     "execution_count": 11,
     "metadata": {},
     "output_type": "execute_result"
    }
   ],
   "source": [
    "key_and_plaintext_buffer"
   ]
  },
  {
   "cell_type": "code",
   "execution_count": 12,
   "id": "edb0e7a5",
   "metadata": {},
   "outputs": [
    {
     "data": {
      "text/plain": [
       "PynqBuffer([ 50, 205, 186, 136,  92, 227, 175, 118, 122,  56, 126, 187,\n",
       "             84, 132,  98, 181,  97,  98,  99, 100, 101, 102,  49,  50,\n",
       "             51,  52,  53,  54,  55,  56,  57,  48], dtype=uint8)"
      ]
     },
     "execution_count": 12,
     "metadata": {},
     "output_type": "execute_result"
    }
   ],
   "source": [
    "ciphertext_and_decryptedtext_buffer"
   ]
  },
  {
   "cell_type": "code",
   "execution_count": 13,
   "id": "5046ca24",
   "metadata": {},
   "outputs": [],
   "source": [
    "del key_and_plaintext_buffer\n",
    "del ciphertext_and_decryptedtext_buffer"
   ]
  },
  {
   "cell_type": "code",
   "execution_count": null,
   "id": "d651581b",
   "metadata": {},
   "outputs": [],
   "source": []
  }
 ],
 "metadata": {
  "kernelspec": {
   "display_name": "Python 3 (ipykernel)",
   "language": "python",
   "name": "python3"
  },
  "language_info": {
   "codemirror_mode": {
    "name": "ipython",
    "version": 3
   },
   "file_extension": ".py",
   "mimetype": "text/x-python",
   "name": "python",
   "nbconvert_exporter": "python",
   "pygments_lexer": "ipython3",
   "version": "3.10.4"
  }
 },
 "nbformat": 4,
 "nbformat_minor": 5
}
