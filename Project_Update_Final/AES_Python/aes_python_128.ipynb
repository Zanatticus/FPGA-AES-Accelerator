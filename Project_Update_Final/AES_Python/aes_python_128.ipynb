{
 "cells": [
  {
   "cell_type": "code",
   "execution_count": 1,
   "id": "9fda6666",
   "metadata": {},
   "outputs": [
    {
     "name": "stdout",
     "output_type": "stream",
     "text": [
      "\n",
      "Performing AES-128 encryption and decryption:\n",
      "\n",
      "Plaintext:\n",
      "61 62 63 64 65 66 31 32 33 34 35 36 37 38 39 30\n",
      "\n",
      "Ciphertext:\n",
      "39 62 8b cc c1 cd 48 e4 5f dd b5 e8 9c bf 9d 02\n",
      "\n",
      "Decryptedtext:\n",
      "61 62 63 64 65 66 31 32 33 34 35 36 37 38 39 30\n",
      "\n",
      "Time taken: 0.061778 seconds\n",
      "\n"
     ]
    }
   ],
   "source": [
    "from aes import aes_encrypt, aes_decrypt\n",
    "import time\n",
    "# ONLY CHANGE THIS VARIABLE TO TEST DIFFERENT AES MODES\n",
    "mode = 128\n",
    "\n",
    "if mode == 128:\n",
    "    key = [ord(i) for i in \"kkkkeeeeyyyy....\"]\n",
    "    size = 16\n",
    "elif mode == 192:\n",
    "    key = [ord(i) for i in \"kkkkeeeeyyyy....12345678\"]\n",
    "    size = 24\n",
    "elif mode == 256:\n",
    "    key = [ord(i) for i in \"kkkkeeeeyyyy....12345678ABCDEFGH\"]\n",
    "    size = 32\n",
    "\n",
    "plaintext = [ord(i) for i in \"abcdef1234567890\"]\n",
    "ciphertext = [None] * 16\n",
    "decryptedtext = [None] * 16\n",
    "\n",
    "start_time = time.time()\n",
    "aes_encrypt(plaintext, ciphertext, key, size)\n",
    "aes_decrypt(ciphertext, decryptedtext, key, size)\n",
    "end_time = time.time()\n",
    "\n",
    "print(f\"\\nPerforming AES-{mode} encryption and decryption:\")\n",
    "print(\"\\nPlaintext:\")\n",
    "[print(f\"{plaintext[i]:02x}\", end='\\n' if i==15 else ' ') for i in range(16)]\n",
    "print(\"\\nCiphertext:\")\n",
    "[print(f\"{ciphertext[i]:02x}\", end='\\n' if i==15 else ' ') for i in range(16)]\n",
    "print(\"\\nDecryptedtext:\")\n",
    "[print(f\"{decryptedtext[i]:02x}\", end='\\n' if i==15 else ' ') for i in range(16)]\n",
    "\n",
    "print(f\"\\nTime taken: {end_time-start_time:f} seconds\\n\")"
   ]
  },
  {
   "cell_type": "code",
   "execution_count": null,
   "id": "3a83afb3",
   "metadata": {},
   "outputs": [],
   "source": []
  }
 ],
 "metadata": {
  "kernelspec": {
   "display_name": "Python 3 (ipykernel)",
   "language": "python",
   "name": "python3"
  },
  "language_info": {
   "codemirror_mode": {
    "name": "ipython",
    "version": 3
   },
   "file_extension": ".py",
   "mimetype": "text/x-python",
   "name": "python",
   "nbconvert_exporter": "python",
   "pygments_lexer": "ipython3",
   "version": "3.10.4"
  }
 },
 "nbformat": 4,
 "nbformat_minor": 5
}
