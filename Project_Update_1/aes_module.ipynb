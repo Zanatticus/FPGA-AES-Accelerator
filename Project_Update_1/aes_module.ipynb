{
 "cells": [
  {
   "cell_type": "code",
   "execution_count": null,
   "metadata": {},
   "outputs": [],
   "source": [
    "from Crypto.Cipher import AES\n",
    "from Crypto.Random import get_random_bytes\n",
    "from Crypto.Util.Padding import pad, unpad\n",
    "import base64\n",
    "import time\n",
    "\n",
    "AES_MODE = AES.MODE_CBC\n",
    "\n",
    "def encrypt_message(key, message):\n",
    "    cipher = AES.new(key, AES_MODE)\n",
    "    ct_bytes = cipher.encrypt(pad(message.encode(), AES.block_size))\n",
    "    iv = base64.b64encode(cipher.iv).decode('utf-8')\n",
    "    ct = base64.b64encode(ct_bytes).decode('utf-8')\n",
    "    return iv, ct\n",
    "\n",
    "def decrypt_message(key, iv, ct):\n",
    "    iv = base64.b64decode(iv)\n",
    "    ct = base64.b64decode(ct)\n",
    "    cipher = AES.new(key, AES.MODE_CBC, iv)\n",
    "    pt = unpad(cipher.decrypt(ct), AES.block_size)\n",
    "    return pt.decode('utf-8')"
   ]
  },
  {
   "cell_type": "code",
   "execution_count": null,
   "metadata": {},
   "outputs": [],
   "source": [
    "key = bytes('kwnfy4ncketndjiltjebbgkechtkvhjk', 'utf-8')\n",
    "message = \"Speed I am speed, faster than fast quicker than quick. LIGHTNING LIGHTNING LIGHTNING\""
   ]
  },
  {
   "cell_type": "code",
   "execution_count": null,
   "metadata": {},
   "outputs": [],
   "source": [
    "start_time = time.time()\n",
    "iv, ciphertext = encrypt_message(key, message)\n",
    "end_time()\n",
    "print(\"Encrypted message:\", ciphertext)\n",
    "print(\"Software Encryption time: {end_time - start_time} seconds\")"
   ]
  },
  {
   "cell_type": "code",
   "execution_count": null,
   "metadata": {},
   "outputs": [],
   "source": [
    "start_time = time.time()\n",
    "decrypted_message = decrypt_message(key, iv, ciphertext)\n",
    "end_time()\n",
    "print(\"Decrypted message:\", decrypted_message)\n",
    "print(\"Software Decryption time: {end_time - start_time} seconds\")"
   ]
  }
 ],
 "metadata": {
  "language_info": {
   "name": "python"
  }
 },
 "nbformat": 4,
 "nbformat_minor": 2
}
