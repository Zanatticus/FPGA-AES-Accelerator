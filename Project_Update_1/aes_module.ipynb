{
 "cells": [
  {
   "cell_type": "code",
   "execution_count": 1,
   "metadata": {},
   "outputs": [],
   "source": [
    "from Crypto.Cipher import AES\n",
    "from Crypto.Random import get_random_bytes\n",
    "from Crypto.Util.Padding import pad, unpad\n",
    "import base64\n",
    "import time\n",
    "\n",
    "AES_MODE = AES.MODE_CBC\n",
    "\n",
    "def encrypt_message(key, message):\n",
    "    cipher = AES.new(key, AES_MODE)\n",
    "    ct_bytes = cipher.encrypt(pad(message.encode(), AES.block_size))\n",
    "    iv = base64.b64encode(cipher.iv).decode('utf-8')\n",
    "    ct = base64.b64encode(ct_bytes).decode('utf-8')\n",
    "    return iv, ct\n",
    "\n",
    "def decrypt_message(key, iv, ct):\n",
    "    iv = base64.b64decode(iv)\n",
    "    ct = base64.b64decode(ct)\n",
    "    cipher = AES.new(key, AES.MODE_CBC, iv)\n",
    "    pt = unpad(cipher.decrypt(ct), AES.block_size)\n",
    "    return pt.decode('utf-8')"
   ]
  },
  {
   "cell_type": "code",
   "execution_count": 2,
   "metadata": {},
   "outputs": [],
   "source": [
    "key = bytes('kwnfy4ncketndjiltjebbgkechtkvhjk', 'utf-8')\n",
    "message = \"Speed I am speed, faster than fast quicker than quick. LIGHTNING LIGHTNING LIGHTNING\""
   ]
  },
  {
   "cell_type": "code",
   "execution_count": 4,
   "metadata": {},
   "outputs": [
    {
     "name": "stdout",
     "output_type": "stream",
     "text": [
      "Encrypted message: 0XTIXzntN3uZc1CbbrzuKTgISqVpVBK//W+eBYZU5/5678X9GYwjJKuUAPCN2yVT8KmF7fwBUH5d9bD/3/kshmlNHiz84TD+qFa8t3xdQk9EfJKW/b0MDIb6Soap75G9\n",
      "Software Encryption time: 0.00034499168395996094 seconds\n"
     ]
    }
   ],
   "source": [
    "start_time = time.time()\n",
    "iv, ciphertext = encrypt_message(key, message)\n",
    "end_time = time.time()\n",
    "print(f\"Encrypted message:\", ciphertext)\n",
    "print(f\"Software Encryption time: {end_time - start_time} seconds\")"
   ]
  },
  {
   "cell_type": "code",
   "execution_count": 5,
   "metadata": {},
   "outputs": [
    {
     "name": "stdout",
     "output_type": "stream",
     "text": [
      "Decrypted message: Speed I am speed, faster than fast quicker than quick. LIGHTNING LIGHTNING LIGHTNING\n",
      "Software Decryption time: 0.00045609474182128906 seconds\n"
     ]
    }
   ],
   "source": [
    "start_time = time.time()\n",
    "decrypted_message = decrypt_message(key, iv, ciphertext)\n",
    "end_time = time.time()\n",
    "print(f\"Decrypted message:\", decrypted_message)\n",
    "print(f\"Software Decryption time: {end_time - start_time} seconds\")"
   ]
  }
 ],
 "metadata": {
  "kernelspec": {
   "display_name": "Python 3",
   "language": "python",
   "name": "python3"
  },
  "language_info": {
   "codemirror_mode": {
    "name": "ipython",
    "version": 3
   },
   "file_extension": ".py",
   "mimetype": "text/x-python",
   "name": "python",
   "nbconvert_exporter": "python",
   "pygments_lexer": "ipython3",
   "version": "3.10.12"
  }
 },
 "nbformat": 4,
 "nbformat_minor": 2
}
