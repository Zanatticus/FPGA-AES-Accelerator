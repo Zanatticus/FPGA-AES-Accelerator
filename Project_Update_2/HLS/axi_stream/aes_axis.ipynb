{
 "cells": [
  {
   "cell_type": "code",
   "execution_count": 1,
   "id": "aa282dde",
   "metadata": {},
   "outputs": [
    {
     "data": {
      "application/javascript": "\ntry {\nrequire(['notebook/js/codecell'], function(codecell) {\n  codecell.CodeCell.options_default.highlight_modes[\n      'magic_text/x-csrc'] = {'reg':[/^%%microblaze/]};\n  Jupyter.notebook.events.one('kernel_ready.Kernel', function(){\n      Jupyter.notebook.get_cells().map(function(cell){\n          if (cell.cell_type == 'code'){ cell.auto_highlight(); } }) ;\n  });\n});\n} catch (e) {};\n"
     },
     "metadata": {},
     "output_type": "display_data"
    },
    {
     "data": {
      "application/javascript": "\ntry {\nrequire(['notebook/js/codecell'], function(codecell) {\n  codecell.CodeCell.options_default.highlight_modes[\n      'magic_text/x-csrc'] = {'reg':[/^%%pybind11/]};\n  Jupyter.notebook.events.one('kernel_ready.Kernel', function(){\n      Jupyter.notebook.get_cells().map(function(cell){\n          if (cell.cell_type == 'code'){ cell.auto_highlight(); } }) ;\n  });\n});\n} catch (e) {};\n"
     },
     "metadata": {},
     "output_type": "display_data"
    }
   ],
   "source": [
    "from pynq import Overlay\n",
    "import numpy as np\n",
    "import random\n",
    "from pynq import allocate\n",
    "\n",
    "overlay = Overlay('/home/xilinx/pynq/overlays/aes/aes_axis.bit')\n",
    "overlay?"
   ]
  },
  {
   "cell_type": "code",
   "execution_count": 2,
   "id": "747ccef8",
   "metadata": {},
   "outputs": [],
   "source": [
    "aes_ip = overlay.aes_0\n",
    "aes_ip?"
   ]
  },
  {
   "cell_type": "code",
   "execution_count": null,
   "id": "ecc9c72e",
   "metadata": {},
   "outputs": [],
   "source": [
    "dma = overlay.axi_dma_0\n",
    "dma_send = overlay.axi_dma.sendchannel\n",
    "dma_recv = overlay.axi_dma.recvchannel"
   ]
  },
  {
   "cell_type": "code",
   "execution_count": null,
   "id": "0e1a9906",
   "metadata": {},
   "outputs": [],
   "source": [
    "aes_ip.register_map"
   ]
  },
  {
   "cell_type": "code",
   "execution_count": null,
   "id": "bea0f85b",
   "metadata": {},
   "outputs": [],
   "source": [
    "CONTROL_REGISTER = 0x0\n",
    "aes_ip.write(CONTROL_REGISTER, 0x01)"
   ]
  },
  {
   "cell_type": "code",
   "execution_count": 3,
   "id": "aeb8810d",
   "metadata": {},
   "outputs": [
    {
     "data": {
      "text/plain": [
       "RegisterMap {\n",
       "  CTRL = Register(AP_START=0, AP_DONE=0, AP_IDLE=1, AP_READY=0, RESERVED_1=0, AUTO_RESTART=0, RESERVED_2=0, INTERRUPT=0, RESERVED_3=0),\n",
       "  GIER = Register(Enable=0, RESERVED=0),\n",
       "  IP_IER = Register(CHAN0_INT_EN=0, CHAN1_INT_EN=0, RESERVED_0=0),\n",
       "  IP_ISR = Register(CHAN0_INT_ST=0, CHAN1_INT_ST=0, RESERVED_0=0),\n",
       "  plaintext_1 = Register(plaintext=write-only),\n",
       "  plaintext_2 = Register(plaintext=write-only),\n",
       "  ciphertext_1 = Register(ciphertext=write-only),\n",
       "  ciphertext_2 = Register(ciphertext=write-only),\n",
       "  key_1 = Register(key=write-only),\n",
       "  key_2 = Register(key=write-only),\n",
       "  key_size = Register(key_size=write-only),\n",
       "  decryptedtext_1 = Register(decryptedtext=write-only),\n",
       "  decryptedtext_2 = Register(decryptedtext=write-only)\n",
       "}"
      ]
     },
     "execution_count": 3,
     "metadata": {},
     "output_type": "execute_result"
    }
   ],
   "source": [
    "aes_ip.register_map"
   ]
  },
  {
   "cell_type": "code",
   "execution_count": 4,
   "id": "2a3f7af8",
   "metadata": {},
   "outputs": [],
   "source": [
    "data_size = 16\n",
    "\n",
    "key_buffer = allocate(shape=(data_size,), dtype=np.uint32)\n",
    "key_array = [ord(char) for char in \"kkkkeeeeyyyy....\"]\n",
    "key_buffer[:] = key_array\n",
    "\n",
    "plaintext_buffer = allocate(shape=(data_size,), dtype=np.uint32)\n",
    "plaintext_array = [ord(char) for char in \"abcdef1234567890\"]\n",
    "plaintext_buffer[:] = plaintext_array\n",
    "\n",
    "ciphertext_buffer = allocate(shape=(data_size,), dtype=np.uint32)\n",
    "decrypted_plaintext_buffer = allocate(shape=(data_size,), dtype=np.uint32)"
   ]
  },
  {
   "cell_type": "code",
   "execution_count": null,
   "id": "e8eac51a",
   "metadata": {},
   "outputs": [],
   "source": [
    "aes_ip.write(0x34, 16) # Write Key Size = 16\n",
    "dma_send.transfer(key_buffer)\n",
    "dma_send.transfer(plaintext_buffer)\n",
    "\n",
    "dma_recv.transfer(ciphertext_buffer)\n",
    "dma_recv.transfer(decrypted_plaintext_buffer)\n",
    "\n",
    "dma_send.wait()\n",
    "dma_recv.wait()\n"
   ]
  },
  {
   "cell_type": "code",
   "execution_count": 5,
   "id": "5ba6c75e",
   "metadata": {},
   "outputs": [],
   "source": [
    "ciphertext_buffer"
   ]
  },
  {
   "cell_type": "code",
   "execution_count": 6,
   "id": "9254e938",
   "metadata": {},
   "outputs": [],
   "source": [
    "decrypted_plaintext_buffer"
   ]
  },
  {
   "cell_type": "code",
   "execution_count": 10,
   "id": "8521b147",
   "metadata": {},
   "outputs": [],
   "source": [
    "del key_buffer\n",
    "del plaintext_buffer\n",
    "del ciphertext_buffer\n",
    "del decrypted_plaintext_buffer"
   ]
  }
 ],
 "metadata": {
  "kernelspec": {
   "display_name": "Python 3 (ipykernel)",
   "language": "python",
   "name": "python3"
  },
  "language_info": {
   "codemirror_mode": {
    "name": "ipython",
    "version": 3
   },
   "file_extension": ".py",
   "mimetype": "text/x-python",
   "name": "python",
   "nbconvert_exporter": "python",
   "pygments_lexer": "ipython3",
   "version": "3.10.4"
  }
 },
 "nbformat": 4,
 "nbformat_minor": 5
}
