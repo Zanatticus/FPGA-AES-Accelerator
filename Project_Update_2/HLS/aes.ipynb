{
 "cells": [
  {
   "cell_type": "code",
   "execution_count": 4,
   "id": "aa282dde",
   "metadata": {},
   "outputs": [],
   "source": [
    "from pynq import Overlay\n",
    "import numpy as np\n",
    "import random\n",
    "from pynq import allocate\n",
    "\n",
    "overlay = Overlay('/home/xilinx/pynq/overlays/aes/aes.bit')\n",
    "overlay?"
   ]
  },
  {
   "cell_type": "code",
   "execution_count": 5,
   "id": "747ccef8",
   "metadata": {},
   "outputs": [],
   "source": [
    "aes_ip = overlay.aes_0\n",
    "aes_ip?"
   ]
  },
  {
   "cell_type": "code",
   "execution_count": 6,
   "id": "aeb8810d",
   "metadata": {},
   "outputs": [
    {
     "data": {
      "text/plain": [
       "RegisterMap {\n",
       "  in_r = Register(in_r=write-only, RESERVED=write-only),\n",
       "  out_r_i = Register(out_r_i=write-only, RESERVED=write-only),\n",
       "  out_r_o = Register(out_r_o=0, RESERVED=0),\n",
       "  out_r_o_ctrl = Register(out_r_o_ap_vld=0, RESERVED=0),\n",
       "  key = Register(key=write-only, RESERVED=write-only),\n",
       "  size = Register(size=write-only),\n",
       "  decryptedtext = Register(decryptedtext=0, RESERVED=0),\n",
       "  decryptedtext_ctrl = Register(decryptedtext_ap_vld=0, RESERVED=0)\n",
       "}"
      ]
     },
     "execution_count": 6,
     "metadata": {},
     "output_type": "execute_result"
    }
   ],
   "source": [
    "aes_ip.register_map"
   ]
  },
  {
   "cell_type": "code",
   "execution_count": null,
   "id": "2a3f7af8",
   "metadata": {},
   "outputs": [],
   "source": [
    "from pynq import allocate\n",
    "import numpy as np\n",
    "\n",
    "plaintext_buffer = allocate(shape=(16,), dtype=np.character)\n",
    "plaintext_buffer[:] = \"abcdef1234567890\"\n",
    "key_buffer = allocate(shape=(16,), dtype=np.character)\n",
    "key_buffer[:] = \"kkkkeeeeyyyy....\"\n",
    "\n",
    "aes_ip.write(0x34, 16)\n",
    "\n",
    "ciphertext_buffer = allocate(shape=(16,), dtype=np.character)\n",
    "decrypted_plaintext_buffer = allocate(shape=(16,), dtype=np.character)"
   ]
  },
  {
   "cell_type": "code",
   "execution_count": null,
   "id": "5ba6c75e",
   "metadata": {},
   "outputs": [],
   "source": [
    "aes_ip.register_map.in_r = plaintext_buffer.physical_address\n",
    "aes_ip.register_map.out_r_i = ciphertext_buffer.physical_address\n",
    "aes_ip.register_map.decryptedtext = decrypted_plaintext_buffer.physical_address"
   ]
  },
  {
   "cell_type": "code",
   "execution_count": null,
   "id": "6cfad96b",
   "metadata": {},
   "outputs": [],
   "source": [
    "print(plaintext_buffer)\n",
    "print(ciphertext_buffer)\n",
    "print(decrypted_plaintext_buffer)"
   ]
  },
  {
   "cell_type": "code",
   "execution_count": null,
   "id": "8521b147",
   "metadata": {},
   "outputs": [],
   "source": [
    "del plaintext_buffer\n",
    "del key_buffer\n",
    "del ciphertext_buffer"
   ]
  },
  {
   "cell_type": "code",
   "execution_count": 18,
   "id": "c1762030",
   "metadata": {},
   "outputs": [],
   "source": [
    "# aes_ip.write(0x10, b'abcdef1234567890') # Register for Plaintext Data\n",
    "# aes_ip.write(0x28, b'kkkkeeeeyyyy....') # Register for Key Data\n",
    "# aes_ip.write(0x34, 16) # Register for Key Size"
   ]
  },
  {
   "cell_type": "code",
   "execution_count": 23,
   "id": "df6fdae1",
   "metadata": {},
   "outputs": [],
   "source": [
    "# #aes_ip.read(0x1c) # Read encrypted ciphertext\n",
    "# ciphertext = []\n",
    "# for i in range(16):\n",
    "#     ciphertext.append(aes_ip.read(0x1c + 4*i))"
   ]
  },
  {
   "cell_type": "code",
   "execution_count": 24,
   "id": "2b98234b",
   "metadata": {},
   "outputs": [],
   "source": [
    "# # aes_ip.read(0x3c) # Read decrypted plaintext\n",
    "# decrypted_plaintext = []\n",
    "# for i in range(16):\n",
    "#     decrypted_plaintext.append(aes_ip.read(0x3c + 4*i))"
   ]
  },
  {
   "cell_type": "code",
   "execution_count": 25,
   "id": "d30ba837",
   "metadata": {},
   "outputs": [
    {
     "data": {
      "text/plain": [
       "[809056311, 0, 0, 1802201963, 1701143909, 0, 16, 0, 0, 0, 0, 0, 0, 0, 0, 0]"
      ]
     },
     "execution_count": 25,
     "metadata": {},
     "output_type": "execute_result"
    }
   ],
   "source": [
    "# ciphertext"
   ]
  },
  {
   "cell_type": "code",
   "execution_count": 26,
   "id": "21e1c983",
   "metadata": {},
   "outputs": [
    {
     "data": {
      "text/plain": [
       "[0, 0, 0, 0, 0, 0, 0, 0, 0, 0, 0, 0, 0, 0, 0, 0]"
      ]
     },
     "execution_count": 26,
     "metadata": {},
     "output_type": "execute_result"
    }
   ],
   "source": [
    "# decrypted_plaintext"
   ]
  },
  {
   "cell_type": "code",
   "execution_count": null,
   "id": "f0b0b412",
   "metadata": {},
   "outputs": [],
   "source": []
  }
 ],
 "metadata": {
  "kernelspec": {
   "display_name": "Python 3 (ipykernel)",
   "language": "python",
   "name": "python3"
  },
  "language_info": {
   "codemirror_mode": {
    "name": "ipython",
    "version": 3
   },
   "file_extension": ".py",
   "mimetype": "text/x-python",
   "name": "python",
   "nbconvert_exporter": "python",
   "pygments_lexer": "ipython3",
   "version": "3.10.4"
  }
 },
 "nbformat": 4,
 "nbformat_minor": 5
}
