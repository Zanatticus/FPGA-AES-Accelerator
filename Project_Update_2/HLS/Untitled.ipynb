{
 "cells": [
  {
   "cell_type": "code",
   "execution_count": 1,
   "id": "aa282dde",
   "metadata": {},
   "outputs": [
    {
     "data": {
      "application/javascript": [
       "\n",
       "try {\n",
       "require(['notebook/js/codecell'], function(codecell) {\n",
       "  codecell.CodeCell.options_default.highlight_modes[\n",
       "      'magic_text/x-csrc'] = {'reg':[/^%%microblaze/]};\n",
       "  Jupyter.notebook.events.one('kernel_ready.Kernel', function(){\n",
       "      Jupyter.notebook.get_cells().map(function(cell){\n",
       "          if (cell.cell_type == 'code'){ cell.auto_highlight(); } }) ;\n",
       "  });\n",
       "});\n",
       "} catch (e) {};\n"
      ]
     },
     "metadata": {},
     "output_type": "display_data"
    },
    {
     "data": {
      "application/javascript": [
       "\n",
       "try {\n",
       "require(['notebook/js/codecell'], function(codecell) {\n",
       "  codecell.CodeCell.options_default.highlight_modes[\n",
       "      'magic_text/x-csrc'] = {'reg':[/^%%pybind11/]};\n",
       "  Jupyter.notebook.events.one('kernel_ready.Kernel', function(){\n",
       "      Jupyter.notebook.get_cells().map(function(cell){\n",
       "          if (cell.cell_type == 'code'){ cell.auto_highlight(); } }) ;\n",
       "  });\n",
       "});\n",
       "} catch (e) {};\n"
      ]
     },
     "metadata": {},
     "output_type": "display_data"
    }
   ],
   "source": [
    "from pynq import Overlay\n",
    "import numpy as np\n",
    "import random\n",
    "from pynq import allocate\n",
    "\n",
    "overlay = Overlay('/home/xilinx/pynq/overlays/aes/aes.bit')\n",
    "overlay?"
   ]
  },
  {
   "cell_type": "code",
   "execution_count": 2,
   "id": "747ccef8",
   "metadata": {},
   "outputs": [],
   "source": [
    "aes_ip = overlay.aes_0\n",
    "aes_ip?"
   ]
  },
  {
   "cell_type": "code",
   "execution_count": 3,
   "id": "c6da4182",
   "metadata": {},
   "outputs": [
    {
     "data": {
      "text/plain": [
       "RegisterMap {\n",
       "  in_r = Register(in_r=write-only, RESERVED=write-only),\n",
       "  out_r_i = Register(out_r_i=write-only, RESERVED=write-only),\n",
       "  out_r_o = Register(out_r_o=0, RESERVED=0),\n",
       "  out_r_o_ctrl = Register(out_r_o_ap_vld=0, RESERVED=0),\n",
       "  key = Register(key=write-only, RESERVED=write-only),\n",
       "  size = Register(size=write-only),\n",
       "  decryptedtext = Register(decryptedtext=0, RESERVED=0),\n",
       "  decryptedtext_ctrl = Register(decryptedtext_ap_vld=0, RESERVED=0)\n",
       "}"
      ]
     },
     "execution_count": 3,
     "metadata": {},
     "output_type": "execute_result"
    }
   ],
   "source": [
    "aes_ip.register_map"
   ]
  },
  {
   "cell_type": "code",
   "execution_count": null,
   "id": "f209d80e",
   "metadata": {},
   "outputs": [],
   "source": [
    "aes_ip.register_map.in_r = \"abcdef1234567890\"# Input Plaintext\n",
    "# aes_ip.register_map.out_r_i # Output Ciphertext\n",
    "aes_ip.register_map.key = \"kkkkeeeeyyyy....\"# Input Key\n",
    "aes_ip.register_map.size = 16 # Input Key Size\n",
    "# aes_ip.register_map.decryptedtext # Output Decrypted Plaintext"
   ]
  },
  {
   "cell_type": "code",
   "execution_count": 18,
   "id": "f0068a2c",
   "metadata": {},
   "outputs": [],
   "source": [
    "aes_ip.write(0x10, b'abcdef1234567890') # Register for Plaintext Data\n",
    "aes_ip.write(0x28, b'kkkkeeeeyyyy....') # Register for Key Data\n",
    "aes_ip.write(0x34, 16)"
   ]
  },
  {
   "cell_type": "code",
   "execution_count": 23,
   "id": "a4782067",
   "metadata": {},
   "outputs": [],
   "source": [
    "#aes_ip.read(0x1c) # Read encrypted ciphertext\n",
    "ciphertext = []\n",
    "for i in range(16):\n",
    "    ciphertext.append(aes_ip.read(0x1c + 4*i))"
   ]
  },
  {
   "cell_type": "code",
   "execution_count": 24,
   "id": "8547dd06",
   "metadata": {},
   "outputs": [],
   "source": [
    "# aes_ip.read(0x3c) # Read decrypted plaintext\n",
    "decrypted_plaintext = []\n",
    "for i in range(16):\n",
    "    decrypted_plaintext.append(aes_ip.read(0x3c + 4*i))"
   ]
  },
  {
   "cell_type": "code",
   "execution_count": 25,
   "id": "2b960fa9",
   "metadata": {},
   "outputs": [
    {
     "data": {
      "text/plain": [
       "[809056311, 0, 0, 1802201963, 1701143909, 0, 16, 0, 0, 0, 0, 0, 0, 0, 0, 0]"
      ]
     },
     "execution_count": 25,
     "metadata": {},
     "output_type": "execute_result"
    }
   ],
   "source": [
    "ciphertext"
   ]
  },
  {
   "cell_type": "code",
   "execution_count": 26,
   "id": "35ae4405",
   "metadata": {},
   "outputs": [
    {
     "data": {
      "text/plain": [
       "[0, 0, 0, 0, 0, 0, 0, 0, 0, 0, 0, 0, 0, 0, 0, 0]"
      ]
     },
     "execution_count": 26,
     "metadata": {},
     "output_type": "execute_result"
    }
   ],
   "source": [
    "decrypted_plaintext"
   ]
  },
  {
   "cell_type": "code",
   "execution_count": null,
   "id": "7fd0a3ef",
   "metadata": {},
   "outputs": [],
   "source": []
  }
 ],
 "metadata": {
  "kernelspec": {
   "display_name": "Python 3 (ipykernel)",
   "language": "python",
   "name": "python3"
  },
  "language_info": {
   "codemirror_mode": {
    "name": "ipython",
    "version": 3
   },
   "file_extension": ".py",
   "mimetype": "text/x-python",
   "name": "python",
   "nbconvert_exporter": "python",
   "pygments_lexer": "ipython3",
   "version": "3.10.4"
  }
 },
 "nbformat": 4,
 "nbformat_minor": 5
}
