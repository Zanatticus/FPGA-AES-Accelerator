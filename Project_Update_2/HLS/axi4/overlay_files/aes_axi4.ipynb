{
 "cells": [
  {
   "cell_type": "code",
   "execution_count": 1,
   "id": "aa282dde",
   "metadata": {},
   "outputs": [
    {
     "data": {
      "application/javascript": "\ntry {\nrequire(['notebook/js/codecell'], function(codecell) {\n  codecell.CodeCell.options_default.highlight_modes[\n      'magic_text/x-csrc'] = {'reg':[/^%%microblaze/]};\n  Jupyter.notebook.events.one('kernel_ready.Kernel', function(){\n      Jupyter.notebook.get_cells().map(function(cell){\n          if (cell.cell_type == 'code'){ cell.auto_highlight(); } }) ;\n  });\n});\n} catch (e) {};\n"
     },
     "metadata": {},
     "output_type": "display_data"
    },
    {
     "data": {
      "application/javascript": "\ntry {\nrequire(['notebook/js/codecell'], function(codecell) {\n  codecell.CodeCell.options_default.highlight_modes[\n      'magic_text/x-csrc'] = {'reg':[/^%%pybind11/]};\n  Jupyter.notebook.events.one('kernel_ready.Kernel', function(){\n      Jupyter.notebook.get_cells().map(function(cell){\n          if (cell.cell_type == 'code'){ cell.auto_highlight(); } }) ;\n  });\n});\n} catch (e) {};\n"
     },
     "metadata": {},
     "output_type": "display_data"
    }
   ],
   "source": [
    "from pynq import Overlay\n",
    "import numpy as np\n",
    "import random\n",
    "from pynq import allocate\n",
    "\n",
    "overlay = Overlay('/home/xilinx/pynq/overlays/aes_axi4/aes.bit')\n",
    "overlay?"
   ]
  },
  {
   "cell_type": "code",
   "execution_count": 2,
   "id": "747ccef8",
   "metadata": {},
   "outputs": [],
   "source": [
    "aes_ip = overlay.aes_0\n",
    "aes_ip?"
   ]
  },
  {
   "cell_type": "code",
   "execution_count": 3,
   "id": "aeb8810d",
   "metadata": {},
   "outputs": [
    {
     "data": {
      "text/plain": [
       "RegisterMap {\n",
       "  CTRL = Register(AP_START=0, AP_DONE=0, AP_IDLE=1, AP_READY=0, RESERVED_1=0, AUTO_RESTART=0, RESERVED_2=0, INTERRUPT=0, RESERVED_3=0),\n",
       "  GIER = Register(Enable=0, RESERVED=0),\n",
       "  IP_IER = Register(CHAN0_INT_EN=0, CHAN1_INT_EN=0, RESERVED_0=0),\n",
       "  IP_ISR = Register(CHAN0_INT_ST=0, CHAN1_INT_ST=0, RESERVED_0=0),\n",
       "  plaintext_1 = Register(plaintext=write-only),\n",
       "  plaintext_2 = Register(plaintext=write-only),\n",
       "  ciphertext_1 = Register(ciphertext=write-only),\n",
       "  ciphertext_2 = Register(ciphertext=write-only),\n",
       "  key_1 = Register(key=write-only),\n",
       "  key_2 = Register(key=write-only),\n",
       "  key_size = Register(key_size=write-only),\n",
       "  decryptedtext_1 = Register(decryptedtext=write-only),\n",
       "  decryptedtext_2 = Register(decryptedtext=write-only)\n",
       "}"
      ]
     },
     "execution_count": 3,
     "metadata": {},
     "output_type": "execute_result"
    }
   ],
   "source": [
    "aes_ip.register_map"
   ]
  },
  {
   "cell_type": "code",
   "execution_count": 4,
   "id": "2a3f7af8",
   "metadata": {},
   "outputs": [],
   "source": [
    "plaintext_buffer = allocate(shape=(16,), dtype=np.uint32)\n",
    "plaintext_array = [ord(char) for char in \"abcdef1234567890\"]\n",
    "plaintext_buffer[:] = plaintext_array\n",
    "key_buffer = allocate(shape=(16,), dtype=np.uint32)\n",
    "key_array = [ord(char) for char in \"kkkkeeeeyyyy....\"]\n",
    "key_buffer[:] = key_array\n",
    "ciphertext_buffer = allocate(shape=(16,), dtype=np.uint32)\n",
    "decrypted_plaintext_buffer = allocate(shape=(16,), dtype=np.uint32)"
   ]
  },
  {
   "cell_type": "code",
   "execution_count": 5,
   "id": "5ba6c75e",
   "metadata": {},
   "outputs": [],
   "source": [
    "aes_ip.write(0x10, 16) # Write Key Size = 16\n",
    "aes_ip.register_map.key_1 = key_buffer.physical_address\n",
    "aes_ip.register_map.plaintext_1 = plaintext_buffer.physical_address\n",
    "aes_ip.register_map.ciphertext_1 = ciphertext_buffer.physical_address\n",
    "aes_ip.register_map.decryptedtext_1 = decrypted_plaintext_buffer.physical_address"
   ]
  },
  {
   "cell_type": "code",
   "execution_count": 6,
   "id": "9254e938",
   "metadata": {},
   "outputs": [],
   "source": [
    "aes_ip.register_map.CTRL.AP_START=1"
   ]
  },
  {
   "cell_type": "code",
   "execution_count": 7,
   "id": "6cfad96b",
   "metadata": {},
   "outputs": [
    {
     "name": "stdout",
     "output_type": "stream",
     "text": [
      "[107 107 107 107 101 101 101 101 121 121 121 121  46  46  46  46]\n",
      "[ 97  98  99 100 101 102  49  50  51  52  53  54  55  56  57  48]\n",
      "[0 0 0 0 0 0 0 0 0 0 0 0 0 0 0 0]\n",
      "[0 0 0 0 0 0 0 0 0 0 0 0 0 0 0 0]\n"
     ]
    }
   ],
   "source": [
    "print(key_buffer)\n",
    "print(plaintext_buffer)\n",
    "print(ciphertext_buffer)\n",
    "print(decrypted_plaintext_buffer)"
   ]
  },
  {
   "cell_type": "code",
   "execution_count": 8,
   "id": "edeeb008",
   "metadata": {},
   "outputs": [
    {
     "data": {
      "text/plain": [
       "1"
      ]
     },
     "execution_count": 8,
     "metadata": {},
     "output_type": "execute_result"
    }
   ],
   "source": [
    "aes_ip.register_map.CTRL.AP_START"
   ]
  },
  {
   "cell_type": "code",
   "execution_count": 9,
   "id": "da2a39ed",
   "metadata": {},
   "outputs": [
    {
     "data": {
      "text/plain": [
       "Register(AP_START=1, AP_DONE=0, AP_IDLE=0, AP_READY=0, RESERVED_1=0, AUTO_RESTART=0, RESERVED_2=0, INTERRUPT=0, RESERVED_3=0)"
      ]
     },
     "execution_count": 9,
     "metadata": {},
     "output_type": "execute_result"
    }
   ],
   "source": [
    "aes_ip.register_map.CTRL"
   ]
  },
  {
   "cell_type": "code",
   "execution_count": 10,
   "id": "8521b147",
   "metadata": {},
   "outputs": [],
   "source": [
    "del plaintext_buffer\n",
    "del key_buffer\n",
    "del ciphertext_buffer"
   ]
  },
  {
   "cell_type": "code",
   "execution_count": null,
   "id": "35277663",
   "metadata": {},
   "outputs": [],
   "source": []
  }
 ],
 "metadata": {
  "kernelspec": {
   "display_name": "Python 3 (ipykernel)",
   "language": "python",
   "name": "python3"
  },
  "language_info": {
   "codemirror_mode": {
    "name": "ipython",
    "version": 3
   },
   "file_extension": ".py",
   "mimetype": "text/x-python",
   "name": "python",
   "nbconvert_exporter": "python",
   "pygments_lexer": "ipython3",
   "version": "3.10.4"
  }
 },
 "nbformat": 4,
 "nbformat_minor": 5
}
